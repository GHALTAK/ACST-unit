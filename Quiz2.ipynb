{
 "cells": [
  {
   "cell_type": "markdown",
   "metadata": {},
   "source": [
    "# Question 1"
   ]
  },
  {
   "cell_type": "markdown",
   "metadata": {},
   "source": [
    "The chunck below in the notebook we downloaded was not working because windows does not have bash on it. There are different solution to this problem:\n",
    "First we can use cmd instead of bash but obviously the code will be sligthly different. The second solution is to integrate the git bash with the python I could do that either. Also you install Cygwin which is a linux for windows. I end up install ubuntu from the windows store and change windows subsystems for Linux:\n",
    "using the following code in powershell window:\n",
    "### Enable-WindowsOptionalFeature -Online -FeatureName Microsoft-Windows-Subsystem-Linux\n",
    "The link below shows the how to  do it:\n",
    "https://docs.microsoft.com/en-us/windows/wsl/install-win10\n",
    "and now the code get executed"
   ]
  },
  {
   "cell_type": "code",
   "execution_count": 24,
   "metadata": {},
   "outputs": [
    {
     "name": "stdout",
     "output_type": "stream",
     "text": [
      "/mnt/c/Users/maber\n"
     ]
    }
   ],
   "source": [
    "%%bash\n",
    "pwd"
   ]
  },
  {
   "cell_type": "code",
   "execution_count": 25,
   "metadata": {
    "scrolled": true
   },
   "outputs": [
    {
     "name": "stdout",
     "output_type": "stream",
     "text": [
      "desktop.ini\n",
      "test-file.txt\n",
      "test.txt\n",
      "\n",
      "using bash from inside Jupyter!\n"
     ]
    }
   ],
   "source": [
    "%%bash\n",
    "cd /mnt/c/Users/maber/Music\n",
    "echo \"using bash from inside Jupyter!\" > test-file.txt\n",
    "ls\n",
    "echo \"\"\n",
    "cat test-file.txt\n",
    "rm test-file.txt"
   ]
  },
  {
   "cell_type": "markdown",
   "metadata": {},
   "source": [
    "Next error was because I didnt have sql installed so I had to install it from the jupyter notebook terminal. i used the following code to do it:\n",
    "pip install ipython-sql"
   ]
  },
  {
   "cell_type": "code",
   "execution_count": null,
   "metadata": {},
   "outputs": [],
   "source": [
    "# Source: https://github.com/catherinedevlin/ipython-sql\n",
    "# do pip install ipython-sql in the terminal\n",
    "%load_ext sql"
   ]
  },
  {
   "cell_type": "code",
   "execution_count": null,
   "metadata": {},
   "outputs": [],
   "source": [
    "%%sql sqlite://\n",
    "\n",
    "SELECT *\n",
    "FROM (\n",
    "    SELECT 'Hello' as msg_1\n",
    ") A JOIN (\n",
    "    SELECT 'World!' as msg_2\n",
    ") B;"
   ]
  },
  {
   "cell_type": "markdown",
   "metadata": {},
   "source": [
    "Next error was because I didnt have version_information installed. Therefore, I installed it using the following code:\n",
    "% pip install version_information"
   ]
  },
  {
   "cell_type": "code",
   "execution_count": 18,
   "metadata": {},
   "outputs": [
    {
     "name": "stdout",
     "output_type": "stream",
     "text": [
      "The version_information extension is already loaded. To reload it, use:\n",
      "  %reload_ext version_information\n"
     ]
    },
    {
     "data": {
      "application/json": {
       "Software versions": [
        {
         "module": "Python",
         "version": "3.7.0 64bit [MSC v.1912 64 bit (AMD64)]"
        },
        {
         "module": "IPython",
         "version": "6.5.0"
        },
        {
         "module": "OS",
         "version": "Windows 10 10.0.17763 SP0"
        },
        {
         "module": "requests",
         "version": "2.19.1"
        },
        {
         "module": "numpy",
         "version": "1.15.1"
        },
        {
         "module": "pandas",
         "version": "0.23.4"
        },
        {
         "module": "matplotlib",
         "version": "2.2.3"
        },
        {
         "module": "seaborn",
         "version": "0.9.0"
        },
        {
         "module": "sklearn",
         "version": "0.19.2"
        }
       ]
      },
      "text/html": [
       "<table><tr><th>Software</th><th>Version</th></tr><tr><td>Python</td><td>3.7.0 64bit [MSC v.1912 64 bit (AMD64)]</td></tr><tr><td>IPython</td><td>6.5.0</td></tr><tr><td>OS</td><td>Windows 10 10.0.17763 SP0</td></tr><tr><td>requests</td><td>2.19.1</td></tr><tr><td>numpy</td><td>1.15.1</td></tr><tr><td>pandas</td><td>0.23.4</td></tr><tr><td>matplotlib</td><td>2.2.3</td></tr><tr><td>seaborn</td><td>0.9.0</td></tr><tr><td>sklearn</td><td>0.19.2</td></tr><tr><td colspan='2'>Thu May 16 15:48:58 2019 AUS Eastern Standard Time</td></tr></table>"
      ],
      "text/latex": [
       "\\begin{tabular}{|l|l|}\\hline\n",
       "{\\bf Software} & {\\bf Version} \\\\ \\hline\\hline\n",
       "Python & 3.7.0 64bit [MSC v.1912 64 bit (AMD64)] \\\\ \\hline\n",
       "IPython & 6.5.0 \\\\ \\hline\n",
       "OS & Windows 10 10.0.17763 SP0 \\\\ \\hline\n",
       "requests & 2.19.1 \\\\ \\hline\n",
       "numpy & 1.15.1 \\\\ \\hline\n",
       "pandas & 0.23.4 \\\\ \\hline\n",
       "matplotlib & 2.2.3 \\\\ \\hline\n",
       "seaborn & 0.9.0 \\\\ \\hline\n",
       "sklearn & 0.19.2 \\\\ \\hline\n",
       "\\hline \\multicolumn{2}{|l|}{Thu May 16 15:48:58 2019 AUS Eastern Standard Time} \\\\ \\hline\n",
       "\\end{tabular}\n"
      ],
      "text/plain": [
       "Software versions\n",
       "Python 3.7.0 64bit [MSC v.1912 64 bit (AMD64)]\n",
       "IPython 6.5.0\n",
       "OS Windows 10 10.0.17763 SP0\n",
       "requests 2.19.1\n",
       "numpy 1.15.1\n",
       "pandas 0.23.4\n",
       "matplotlib 2.2.3\n",
       "seaborn 0.9.0\n",
       "sklearn 0.19.2\n",
       "Thu May 16 15:48:58 2019 AUS Eastern Standard Time"
      ]
     },
     "execution_count": 18,
     "metadata": {},
     "output_type": "execute_result"
    }
   ],
   "source": [
    "# pip install version_information\n",
    "# https://github.com/jrjohansson/version_information\n",
    "#\n",
    "# alternate option: https://github.com/rasbt/watermark\n",
    "\n",
    "%load_ext version_information\n",
    "%version_information requests, numpy, pandas, matplotlib, seaborn, sklearn"
   ]
  },
  {
   "cell_type": "markdown",
   "metadata": {},
   "source": [
    "# Question 2"
   ]
  },
  {
   "cell_type": "markdown",
   "metadata": {},
   "source": [
    "I wrote the data in excel and imported it as a .csv file using pandas"
   ]
  },
  {
   "cell_type": "code",
   "execution_count": 5,
   "metadata": {},
   "outputs": [],
   "source": [
    "import pandas as pd\n",
    "import numpy as np\n",
    "import warnings\n",
    "warnings.filterwarnings('ignore')"
   ]
  },
  {
   "cell_type": "code",
   "execution_count": 6,
   "metadata": {},
   "outputs": [],
   "source": [
    "data = pd.read_csv(\"Example1.csv\",header=0) "
   ]
  },
  {
   "cell_type": "code",
   "execution_count": 7,
   "metadata": {},
   "outputs": [
    {
     "data": {
      "text/html": [
       "<div>\n",
       "<style scoped>\n",
       "    .dataframe tbody tr th:only-of-type {\n",
       "        vertical-align: middle;\n",
       "    }\n",
       "\n",
       "    .dataframe tbody tr th {\n",
       "        vertical-align: top;\n",
       "    }\n",
       "\n",
       "    .dataframe thead th {\n",
       "        text-align: right;\n",
       "    }\n",
       "</style>\n",
       "<table border=\"1\" class=\"dataframe\">\n",
       "  <thead>\n",
       "    <tr style=\"text-align: right;\">\n",
       "      <th></th>\n",
       "      <th>Attribute</th>\n",
       "      <th>B</th>\n",
       "      <th>C</th>\n",
       "      <th>D</th>\n",
       "      <th>E</th>\n",
       "      <th>F</th>\n",
       "      <th>G</th>\n",
       "      <th>H</th>\n",
       "    </tr>\n",
       "  </thead>\n",
       "  <tbody>\n",
       "    <tr>\n",
       "      <th>0</th>\n",
       "      <td>Output</td>\n",
       "      <td>80</td>\n",
       "      <td>150</td>\n",
       "      <td>135</td>\n",
       "      <td>165</td>\n",
       "      <td>95</td>\n",
       "      <td>130</td>\n",
       "      <td>110</td>\n",
       "    </tr>\n",
       "    <tr>\n",
       "      <th>1</th>\n",
       "      <td>Labour</td>\n",
       "      <td>60</td>\n",
       "      <td>100</td>\n",
       "      <td>100</td>\n",
       "      <td>120</td>\n",
       "      <td>70</td>\n",
       "      <td>90</td>\n",
       "      <td>80</td>\n",
       "    </tr>\n",
       "    <tr>\n",
       "      <th>2</th>\n",
       "      <td>Capital</td>\n",
       "      <td>50</td>\n",
       "      <td>100</td>\n",
       "      <td>80</td>\n",
       "      <td>100</td>\n",
       "      <td>60</td>\n",
       "      <td>80</td>\n",
       "      <td>70</td>\n",
       "    </tr>\n",
       "  </tbody>\n",
       "</table>\n",
       "</div>"
      ],
      "text/plain": [
       "  Attribute   B    C    D    E   F    G    H\n",
       "0    Output  80  150  135  165  95  130  110\n",
       "1    Labour  60  100  100  120  70   90   80\n",
       "2   Capital  50  100   80  100  60   80   70"
      ]
     },
     "execution_count": 7,
     "metadata": {},
     "output_type": "execute_result"
    }
   ],
   "source": [
    "data.head()"
   ]
  },
  {
   "cell_type": "code",
   "execution_count": 8,
   "metadata": {},
   "outputs": [
    {
     "data": {
      "text/html": [
       "<div>\n",
       "<style scoped>\n",
       "    .dataframe tbody tr th:only-of-type {\n",
       "        vertical-align: middle;\n",
       "    }\n",
       "\n",
       "    .dataframe tbody tr th {\n",
       "        vertical-align: top;\n",
       "    }\n",
       "\n",
       "    .dataframe thead th {\n",
       "        text-align: right;\n",
       "    }\n",
       "</style>\n",
       "<table border=\"1\" class=\"dataframe\">\n",
       "  <thead>\n",
       "    <tr style=\"text-align: right;\">\n",
       "      <th></th>\n",
       "      <th>Attribute</th>\n",
       "      <th>country</th>\n",
       "      <th>value</th>\n",
       "    </tr>\n",
       "  </thead>\n",
       "  <tbody>\n",
       "    <tr>\n",
       "      <th>0</th>\n",
       "      <td>Output</td>\n",
       "      <td>B</td>\n",
       "      <td>80</td>\n",
       "    </tr>\n",
       "    <tr>\n",
       "      <th>1</th>\n",
       "      <td>Labour</td>\n",
       "      <td>B</td>\n",
       "      <td>60</td>\n",
       "    </tr>\n",
       "    <tr>\n",
       "      <th>2</th>\n",
       "      <td>Capital</td>\n",
       "      <td>B</td>\n",
       "      <td>50</td>\n",
       "    </tr>\n",
       "    <tr>\n",
       "      <th>3</th>\n",
       "      <td>Output</td>\n",
       "      <td>C</td>\n",
       "      <td>150</td>\n",
       "    </tr>\n",
       "    <tr>\n",
       "      <th>4</th>\n",
       "      <td>Labour</td>\n",
       "      <td>C</td>\n",
       "      <td>100</td>\n",
       "    </tr>\n",
       "  </tbody>\n",
       "</table>\n",
       "</div>"
      ],
      "text/plain": [
       "  Attribute country  value\n",
       "0    Output       B     80\n",
       "1    Labour       B     60\n",
       "2   Capital       B     50\n",
       "3    Output       C    150\n",
       "4    Labour       C    100"
      ]
     },
     "execution_count": 8,
     "metadata": {},
     "output_type": "execute_result"
    }
   ],
   "source": [
    "datamelt=data.melt(id_vars=\"Attribute\",var_name='country')\n",
    "datamelt.head()"
   ]
  },
  {
   "cell_type": "code",
   "execution_count": 9,
   "metadata": {
    "scrolled": true
   },
   "outputs": [],
   "source": [
    "data2=datamelt.pivot(index='country',columns='Attribute',values='value')\n",
    "data2.columns.name = None"
   ]
  },
  {
   "cell_type": "code",
   "execution_count": 10,
   "metadata": {},
   "outputs": [
    {
     "data": {
      "text/html": [
       "<div>\n",
       "<style scoped>\n",
       "    .dataframe tbody tr th:only-of-type {\n",
       "        vertical-align: middle;\n",
       "    }\n",
       "\n",
       "    .dataframe tbody tr th {\n",
       "        vertical-align: top;\n",
       "    }\n",
       "\n",
       "    .dataframe thead th {\n",
       "        text-align: right;\n",
       "    }\n",
       "</style>\n",
       "<table border=\"1\" class=\"dataframe\">\n",
       "  <thead>\n",
       "    <tr style=\"text-align: right;\">\n",
       "      <th></th>\n",
       "      <th>Capital</th>\n",
       "      <th>Labour</th>\n",
       "      <th>Output</th>\n",
       "    </tr>\n",
       "    <tr>\n",
       "      <th>country</th>\n",
       "      <th></th>\n",
       "      <th></th>\n",
       "      <th></th>\n",
       "    </tr>\n",
       "  </thead>\n",
       "  <tbody>\n",
       "    <tr>\n",
       "      <th>B</th>\n",
       "      <td>50</td>\n",
       "      <td>60</td>\n",
       "      <td>80</td>\n",
       "    </tr>\n",
       "    <tr>\n",
       "      <th>C</th>\n",
       "      <td>100</td>\n",
       "      <td>100</td>\n",
       "      <td>150</td>\n",
       "    </tr>\n",
       "    <tr>\n",
       "      <th>D</th>\n",
       "      <td>80</td>\n",
       "      <td>100</td>\n",
       "      <td>135</td>\n",
       "    </tr>\n",
       "    <tr>\n",
       "      <th>E</th>\n",
       "      <td>100</td>\n",
       "      <td>120</td>\n",
       "      <td>165</td>\n",
       "    </tr>\n",
       "    <tr>\n",
       "      <th>F</th>\n",
       "      <td>60</td>\n",
       "      <td>70</td>\n",
       "      <td>95</td>\n",
       "    </tr>\n",
       "  </tbody>\n",
       "</table>\n",
       "</div>"
      ],
      "text/plain": [
       "         Capital  Labour  Output\n",
       "country                         \n",
       "B             50      60      80\n",
       "C            100     100     150\n",
       "D             80     100     135\n",
       "E            100     120     165\n",
       "F             60      70      95"
      ]
     },
     "execution_count": 10,
     "metadata": {},
     "output_type": "execute_result"
    }
   ],
   "source": [
    "data2.head()"
   ]
  },
  {
   "cell_type": "code",
   "execution_count": 110,
   "metadata": {},
   "outputs": [
    {
     "data": {
      "text/plain": [
       "pandas.core.frame.DataFrame"
      ]
     },
     "execution_count": 110,
     "metadata": {},
     "output_type": "execute_result"
    }
   ],
   "source": [
    "type(data2)"
   ]
  },
  {
   "cell_type": "markdown",
   "metadata": {},
   "source": [
    "## a."
   ]
  },
  {
   "cell_type": "markdown",
   "metadata": {},
   "source": [
    "mean and median and variance and standard deviation of the data has been given below:"
   ]
  },
  {
   "cell_type": "code",
   "execution_count": 55,
   "metadata": {},
   "outputs": [
    {
     "data": {
      "text/html": [
       "<div>\n",
       "<style scoped>\n",
       "    .dataframe tbody tr th:only-of-type {\n",
       "        vertical-align: middle;\n",
       "    }\n",
       "\n",
       "    .dataframe tbody tr th {\n",
       "        vertical-align: top;\n",
       "    }\n",
       "\n",
       "    .dataframe thead tr th {\n",
       "        text-align: left;\n",
       "    }\n",
       "\n",
       "    .dataframe thead tr:last-of-type th {\n",
       "        text-align: right;\n",
       "    }\n",
       "</style>\n",
       "<table border=\"1\" class=\"dataframe\">\n",
       "  <thead>\n",
       "    <tr>\n",
       "      <th></th>\n",
       "      <th colspan=\"4\" halign=\"left\">value</th>\n",
       "    </tr>\n",
       "    <tr>\n",
       "      <th></th>\n",
       "      <th>mean</th>\n",
       "      <th>median</th>\n",
       "      <th>var</th>\n",
       "      <th>std</th>\n",
       "    </tr>\n",
       "    <tr>\n",
       "      <th>Attribute</th>\n",
       "      <th></th>\n",
       "      <th></th>\n",
       "      <th></th>\n",
       "      <th></th>\n",
       "    </tr>\n",
       "  </thead>\n",
       "  <tbody>\n",
       "    <tr>\n",
       "      <th>Capital</th>\n",
       "      <td>77.142857</td>\n",
       "      <td>80</td>\n",
       "      <td>357.142857</td>\n",
       "      <td>18.898224</td>\n",
       "    </tr>\n",
       "    <tr>\n",
       "      <th>Labour</th>\n",
       "      <td>88.571429</td>\n",
       "      <td>90</td>\n",
       "      <td>414.285714</td>\n",
       "      <td>20.354010</td>\n",
       "    </tr>\n",
       "    <tr>\n",
       "      <th>Output</th>\n",
       "      <td>123.571429</td>\n",
       "      <td>130</td>\n",
       "      <td>914.285714</td>\n",
       "      <td>30.237158</td>\n",
       "    </tr>\n",
       "  </tbody>\n",
       "</table>\n",
       "</div>"
      ],
      "text/plain": [
       "                value                              \n",
       "                 mean median         var        std\n",
       "Attribute                                          \n",
       "Capital     77.142857     80  357.142857  18.898224\n",
       "Labour      88.571429     90  414.285714  20.354010\n",
       "Output     123.571429    130  914.285714  30.237158"
      ]
     },
     "execution_count": 55,
     "metadata": {},
     "output_type": "execute_result"
    }
   ],
   "source": [
    "data.melt(id_vars=\"Attribute\").groupby(by=\"Attribute\").agg(['mean', 'median','var','std'])"
   ]
  },
  {
   "cell_type": "markdown",
   "metadata": {},
   "source": [
    "## b."
   ]
  },
  {
   "cell_type": "markdown",
   "metadata": {},
   "source": [
    "The histogram of the desired variables has been given below:"
   ]
  },
  {
   "cell_type": "code",
   "execution_count": 99,
   "metadata": {},
   "outputs": [
    {
     "data": {
      "text/plain": [
       "array([[<matplotlib.axes._subplots.AxesSubplot object at 0x000002AC829E0CC0>,\n",
       "        <matplotlib.axes._subplots.AxesSubplot object at 0x000002AC82A867B8>]],\n",
       "      dtype=object)"
      ]
     },
     "execution_count": 99,
     "metadata": {},
     "output_type": "execute_result"
    },
    {
     "data": {
      "image/png": "[encoded data removed]",
      "text/plain": [
       "<Figure size 432x288 with 2 Axes>"
      ]
     },
     "metadata": {
      "needs_background": "light"
     },
     "output_type": "display_data"
    }
   ],
   "source": [
    "data2.hist(['Labour','Output'])"
   ]
  },
  {
   "cell_type": "markdown",
   "metadata": {},
   "source": [
    "## c.\n",
    "The log tranformation of the dat has been given below. In addition, I has reshaped the datda so that each variable would be in a column: "
   ]
  },
  {
   "cell_type": "code",
   "execution_count": 109,
   "metadata": {},
   "outputs": [
    {
     "data": {
      "text/html": [
       "<div>\n",
       "<style scoped>\n",
       "    .dataframe tbody tr th:only-of-type {\n",
       "        vertical-align: middle;\n",
       "    }\n",
       "\n",
       "    .dataframe tbody tr th {\n",
       "        vertical-align: top;\n",
       "    }\n",
       "\n",
       "    .dataframe thead th {\n",
       "        text-align: right;\n",
       "    }\n",
       "</style>\n",
       "<table border=\"1\" class=\"dataframe\">\n",
       "  <thead>\n",
       "    <tr style=\"text-align: right;\">\n",
       "      <th></th>\n",
       "      <th>Capital</th>\n",
       "      <th>Labour</th>\n",
       "      <th>Output</th>\n",
       "    </tr>\n",
       "    <tr>\n",
       "      <th>country</th>\n",
       "      <th></th>\n",
       "      <th></th>\n",
       "      <th></th>\n",
       "    </tr>\n",
       "  </thead>\n",
       "  <tbody>\n",
       "    <tr>\n",
       "      <th>B</th>\n",
       "      <td>3.912023</td>\n",
       "      <td>4.094345</td>\n",
       "      <td>4.382027</td>\n",
       "    </tr>\n",
       "    <tr>\n",
       "      <th>C</th>\n",
       "      <td>4.605170</td>\n",
       "      <td>4.605170</td>\n",
       "      <td>5.010635</td>\n",
       "    </tr>\n",
       "    <tr>\n",
       "      <th>D</th>\n",
       "      <td>4.382027</td>\n",
       "      <td>4.605170</td>\n",
       "      <td>4.905275</td>\n",
       "    </tr>\n",
       "    <tr>\n",
       "      <th>E</th>\n",
       "      <td>4.605170</td>\n",
       "      <td>4.787492</td>\n",
       "      <td>5.105945</td>\n",
       "    </tr>\n",
       "    <tr>\n",
       "      <th>F</th>\n",
       "      <td>4.094345</td>\n",
       "      <td>4.248495</td>\n",
       "      <td>4.553877</td>\n",
       "    </tr>\n",
       "    <tr>\n",
       "      <th>G</th>\n",
       "      <td>4.382027</td>\n",
       "      <td>4.499810</td>\n",
       "      <td>4.867534</td>\n",
       "    </tr>\n",
       "    <tr>\n",
       "      <th>H</th>\n",
       "      <td>4.248495</td>\n",
       "      <td>4.382027</td>\n",
       "      <td>4.700480</td>\n",
       "    </tr>\n",
       "  </tbody>\n",
       "</table>\n",
       "</div>"
      ],
      "text/plain": [
       "          Capital    Labour    Output\n",
       "country                              \n",
       "B        3.912023  4.094345  4.382027\n",
       "C        4.605170  4.605170  5.010635\n",
       "D        4.382027  4.605170  4.905275\n",
       "E        4.605170  4.787492  5.105945\n",
       "F        4.094345  4.248495  4.553877\n",
       "G        4.382027  4.499810  4.867534\n",
       "H        4.248495  4.382027  4.700480"
      ]
     },
     "execution_count": 109,
     "metadata": {},
     "output_type": "execute_result"
    }
   ],
   "source": [
    "data2.apply(np.log)"
   ]
  },
  {
   "cell_type": "markdown",
   "metadata": {},
   "source": [
    "## d.\n",
    "a multiple regression has been fitted to the data:"
   ]
  },
  {
   "cell_type": "markdown",
   "metadata": {},
   "source": [
    "$\\alpha=0.7687$ and $\\beta=0.7944$ which means $\\alpha + \\beta \\geq 1$. Therefore returns to scale are increasing."
   ]
  },
  {
   "cell_type": "code",
   "execution_count": 111,
   "metadata": {},
   "outputs": [],
   "source": [
    "import numpy as np\n",
    "import statsmodels.formula.api as sm"
   ]
  },
  {
   "cell_type": "code",
   "execution_count": 134,
   "metadata": {},
   "outputs": [
    {
     "name": "stdout",
     "output_type": "stream",
     "text": [
      "Intercept   -5.794393\n",
      "Labour       0.768692\n",
      "Capital      0.794393\n",
      "dtype: float64\n",
      "                            OLS Regression Results                            \n",
      "==============================================================================\n",
      "Dep. Variable:                 Output   R-squared:                       0.998\n",
      "Model:                            OLS   Adj. R-squared:                  0.997\n",
      "Method:                 Least Squares   F-statistic:                     859.6\n",
      "Date:                Wed, 15 May 2019   Prob (F-statistic):           5.39e-06\n",
      "Time:                        19:23:07   Log-Likelihood:                -12.027\n",
      "No. Observations:                   7   AIC:                             30.05\n",
      "Df Residuals:                       4   BIC:                             29.89\n",
      "Df Model:                           2                                         \n",
      "Covariance Type:            nonrobust                                         \n",
      "==============================================================================\n",
      "                 coef    std err          t      P>|t|      [0.025      0.975]\n",
      "------------------------------------------------------------------------------\n",
      "Intercept     -5.7944      3.241     -1.788      0.148     -14.792       3.203\n",
      "Labour         0.7687      0.106      7.277      0.002       0.475       1.062\n",
      "Capital        0.7944      0.114      6.983      0.002       0.479       1.110\n",
      "==============================================================================\n",
      "Omnibus:                          nan   Durbin-Watson:                   2.804\n",
      "Prob(Omnibus):                    nan   Jarque-Bera (JB):                2.806\n",
      "Skew:                           1.475   Prob(JB):                        0.246\n",
      "Kurtosis:                       3.955   Cond. No.                         577.\n",
      "==============================================================================\n",
      "\n",
      "Warnings:\n",
      "[1] Standard Errors assume that the covariance matrix of the errors is correctly specified.\n"
     ]
    }
   ],
   "source": [
    "result = sm.ols(formula=\"Output ~ Labour + Capital\", data=data2).fit()\n",
    "print(result.params)\n",
    "print(result.summary())"
   ]
  },
  {
   "cell_type": "markdown",
   "metadata": {},
   "source": [
    "The histogram for residuals is given below:"
   ]
  },
  {
   "cell_type": "markdown",
   "metadata": {},
   "source": [
    "$\\alpha=0.7687$ and $\\beta=0.7944$ which means $\\alpha + \\beta \\geq 1$. Therefore returns to scale are increasing."
   ]
  },
  {
   "cell_type": "markdown",
   "metadata": {},
   "source": [
    "## e.\n",
    "The histogram of the residuals has been given below:"
   ]
  },
  {
   "cell_type": "code",
   "execution_count": 135,
   "metadata": {},
   "outputs": [
    {
     "data": {
      "text/plain": [
       "<matplotlib.axes._subplots.AxesSubplot at 0x2ac865378d0>"
      ]
     },
     "execution_count": 135,
     "metadata": {},
     "output_type": "execute_result"
    },
    {
     "data": {
      "image/png": "[encoded data removed]",
      "text/plain": [
       "<Figure size 432x288 with 1 Axes>"
      ]
     },
     "metadata": {
      "needs_background": "light"
     },
     "output_type": "display_data"
    }
   ],
   "source": [
    "import seaborn as sns\n",
    "sns.distplot(result.resid,bins=10)"
   ]
  },
  {
   "cell_type": "markdown",
   "metadata": {},
   "source": [
    "## f.\n",
    "The figure below shows the adjusted rsqured:"
   ]
  },
  {
   "cell_type": "code",
   "execution_count": 138,
   "metadata": {},
   "outputs": [
    {
     "data": {
      "text/plain": [
       "0.9965181439836449"
      ]
     },
     "execution_count": 138,
     "metadata": {},
     "output_type": "execute_result"
    }
   ],
   "source": [
    "result.rsquared_adj"
   ]
  }
 ],
 "metadata": {
  "kernelspec": {
   "display_name": "Python 3",
   "language": "python",
   "name": "python3"
  },
  "language_info": {
   "codemirror_mode": {
    "name": "ipython",
    "version": 3
   },
   "file_extension": ".py",
   "mimetype": "text/x-python",
   "name": "python",
   "nbconvert_exporter": "python",
   "pygments_lexer": "ipython3",
   "version": "3.7.0"
  }
 },
 "nbformat": 4,
 "nbformat_minor": 2
}
